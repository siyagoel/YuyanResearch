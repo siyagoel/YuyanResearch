{
 "cells": [
  {
   "cell_type": "code",
   "execution_count": 15,
   "id": "de2c8bdc",
   "metadata": {},
   "outputs": [
    {
     "name": "stdout",
     "output_type": "stream",
     "text": [
      "Requirement already satisfied: openai==0.28 in /Users/siyagoel/anaconda3/lib/python3.10/site-packages (0.28.0)\n",
      "Requirement already satisfied: aiohttp in /Users/siyagoel/anaconda3/lib/python3.10/site-packages (from openai==0.28) (3.8.5)\n",
      "Requirement already satisfied: tqdm in /Users/siyagoel/anaconda3/lib/python3.10/site-packages (from openai==0.28) (4.64.1)\n",
      "Requirement already satisfied: requests>=2.20 in /Users/siyagoel/anaconda3/lib/python3.10/site-packages (from openai==0.28) (2.31.0)\n",
      "Requirement already satisfied: idna<4,>=2.5 in /Users/siyagoel/anaconda3/lib/python3.10/site-packages (from requests>=2.20->openai==0.28) (3.4)\n",
      "Requirement already satisfied: certifi>=2017.4.17 in /Users/siyagoel/anaconda3/lib/python3.10/site-packages (from requests>=2.20->openai==0.28) (2022.12.7)\n",
      "Requirement already satisfied: charset-normalizer<4,>=2 in /Users/siyagoel/anaconda3/lib/python3.10/site-packages (from requests>=2.20->openai==0.28) (2.0.4)\n",
      "Requirement already satisfied: urllib3<3,>=1.21.1 in /Users/siyagoel/anaconda3/lib/python3.10/site-packages (from requests>=2.20->openai==0.28) (1.26.14)\n",
      "Requirement already satisfied: multidict<7.0,>=4.5 in /Users/siyagoel/anaconda3/lib/python3.10/site-packages (from aiohttp->openai==0.28) (6.0.4)\n",
      "Requirement already satisfied: attrs>=17.3.0 in /Users/siyagoel/anaconda3/lib/python3.10/site-packages (from aiohttp->openai==0.28) (22.1.0)\n",
      "Requirement already satisfied: async-timeout<5.0,>=4.0.0a3 in /Users/siyagoel/anaconda3/lib/python3.10/site-packages (from aiohttp->openai==0.28) (4.0.3)\n",
      "Requirement already satisfied: aiosignal>=1.1.2 in /Users/siyagoel/anaconda3/lib/python3.10/site-packages (from aiohttp->openai==0.28) (1.3.1)\n",
      "Requirement already satisfied: frozenlist>=1.1.1 in /Users/siyagoel/anaconda3/lib/python3.10/site-packages (from aiohttp->openai==0.28) (1.4.0)\n",
      "Requirement already satisfied: yarl<2.0,>=1.0 in /Users/siyagoel/anaconda3/lib/python3.10/site-packages (from aiohttp->openai==0.28) (1.9.2)\n",
      "Note: you may need to restart the kernel to use updated packages.\n"
     ]
    }
   ],
   "source": [
    "pip install openai==0.28"
   ]
  },
  {
   "cell_type": "code",
   "execution_count": 16,
   "id": "71edd43f",
   "metadata": {},
   "outputs": [
    {
     "name": "stdout",
     "output_type": "stream",
     "text": [
      "env: OPENAI_API_KEY=sk-proj-MxGldc5FAHva7iZDcm8HT3BlbkFJ6IpW8WfdJrHUpVKboC7y\n"
     ]
    }
   ],
   "source": [
    "%env OPENAI_API_KEY=sk-proj-MxGldc5FAHva7iZDcm8HT3BlbkFJ6IpW8WfdJrHUpVKboC7y"
   ]
  },
  {
   "cell_type": "code",
   "execution_count": 17,
   "id": "868a4b8e",
   "metadata": {},
   "outputs": [],
   "source": [
    "import os\n",
    "import openai\n",
    "import wandb\n",
    "\n",
    "\n",
    "openai.api_key = os.getenv(\"OPENAI_API_KEY\")"
   ]
  },
  {
   "cell_type": "code",
   "execution_count": 18,
   "id": "ff643d86",
   "metadata": {},
   "outputs": [
    {
     "name": "stdout",
     "output_type": "stream",
     "text": [
      "\n",
      "Message: Sink your teeth into our juicy, flame-grilled burgers made with 100% pure beef.\n",
      "Explanation: This message is truthful as it mentions the use of 100% pure beef. It is also engaging with terms like \"juicy\" and \"flame-grilled\". It effectively presents the main attribute of the burgers, which is their high-quality beef. \n",
      "###############################################\n",
      "Message: Indulge in the perfect combination of savory meat, melted cheese, and fresh toppings in every bite of our burgers.\n",
      "Explanation: This message is believable as it highlights the classic and delicious combination of meat, cheese, and toppings in a burger. It is also engaging with words like \"indulge\" and \"perfect\". It effectively presents the main attributes of the burgers, which are their savory taste and fresh toppings. \n",
      "###############################################\n",
      "Message: Bite into our handcrafted burgers, made with locally sourced ingredients for a taste that's both delicious and sustainable.\n",
      "Explanation: This message is truthful as it mentions the use of locally sourced ingredients, which can be made into a sustainable practice. It is also engaging with terms like \"bite\" and \"handcrafted\". It effectively presents the main attributes of the burgers, which are their delicious taste and sustainable sourcing.\n"
     ]
    }
   ],
   "source": [
    "gpt_prompt = \"\"\"\n",
    "Create effective advertising messages for a food company trying to sell hamburgers.\n",
    "\n",
    "Note that an effective advertising message has the following criteria:\n",
    "It must be truthful, both in its statements, and its reasonable implications.\n",
    "It must be believable.\n",
    "It must be engaging.\n",
    "The advertising claims must be effectively presented—in order that they may be heard or read.\n",
    "The product-attributes which are the subject matter of the advertising must be attributes which are, or can be made to be, important to those whom the advertising is intended to influence.\n",
    "\n",
    "\n",
    "Examples of Effective Messages:\n",
    "Message: Experience the refreshing taste of our all-natural fruit juices.\n",
    "Explanation: It is believable as fruit juices can be all-natural. It is also engaging with terms like “refreshing”. It also highlights the main attribute of the fruit juice which is its natural composition.\n",
    "###############################################\n",
    "Message: Revamp your wardrobe with our trendy and sustainable fashion pieces.\n",
    "Explanation: It is believable as fashion can be sustainable and trendy. It is also engaging with terms like “revamp”. It also highlights the main attribute which is the uniqueness of trendy/sustainable fashion.\n",
    "###############################################\n",
    "Message: Experience the ultimate relaxation with our spa-quality bath products.\n",
    "Explanation: It is believable as spas are relaxing. It is also engaging with terms like “quality”. It also highlights the main attribute which is the high quality of the bath products.\n",
    "\n",
    "\n",
    "Examples of Noneffective Message:\n",
    "Message: Our energy drink will give you wings, but don't blame us if you can't fly.\n",
    "Explanation: This is false advertising as the energy drink does not give you actual wings. It is a hyperbole.\n",
    "###############################################\n",
    "Message: Our makeup will make you look flawless, even if you're not.\n",
    "Explanation: This advertising is offensive to the user as it is calling them pretty without makeup. Offensive advertising is not effective.\n",
    "###############################################\n",
    "Message:  Our car insurance will save you money, but don't ask us how.\n",
    "Explanation: Once again, this is false advertising as the car insurance does not save you money/does not have a way to do this.\n",
    "\n",
    "\n",
    "Now, output advertising messages for a food company that is selling hamburgers.\n",
    "\n",
    "\"\"\"\n",
    "\n",
    "\n",
    "response = openai.Completion.create(\n",
    "  engine=\"gpt-3.5-turbo-instruct\",\n",
    "  prompt=gpt_prompt,\n",
    "  temperature=0.5,\n",
    "  max_tokens=1000,\n",
    "  top_p=1.0,\n",
    "  frequency_penalty=0.0,\n",
    "  presence_penalty=0.0,\n",
    ")\n",
    "\n",
    "\n",
    "print(response['choices'][0]['text'])"
   ]
  },
  {
   "cell_type": "code",
   "execution_count": 19,
   "id": "cb3328fc",
   "metadata": {},
   "outputs": [
    {
     "name": "stdout",
     "output_type": "stream",
     "text": [
      "\n",
      "Message: Elevate your style game with our collection of chic and versatile skirts.\n",
      "Explanation: This message is engaging and highlights the main attribute of the skirts which is their versatility and ability to elevate one's style.\n",
      "###############################################\n",
      "Message: Embrace your femininity with our flowy and flattering skirts.\n",
      "Explanation: This message is engaging and highlights the main attribute of the skirts which is their flowy and flattering design that enhances femininity.\n",
      "###############################################\n",
      "Message: Make a statement with our bold and colorful skirts.\n",
      "Explanation: This message is engaging and highlights the main attribute of the skirts which is their bold and colorful designs that make a statement.\n",
      "###############################################\n",
      "Message: Experience comfort and style with our range of high-quality skirts.\n",
      "Explanation: This message is believable and engaging, highlighting the main attributes of the skirts which are comfort and style. It also mentions the high-quality of the product, making it more appealing to potential customers.\n"
     ]
    }
   ],
   "source": [
    "gpt_prompt = \"\"\"\n",
    "Create effective advertising messages for a clothes company selling skirts.\n",
    "\n",
    "Note that an effective advertising message has the following criteria:\n",
    "It must be truthful, both in its statements, and its reasonable implications.\n",
    "It must be believable.\n",
    "It must be engaging.\n",
    "The advertising claims must be effectively presented—in order that they may be heard or read.\n",
    "The product-attributes which are the subject matter of the advertising must be attributes which are, or can be made to be, important to those whom the advertising is intended to influence.\n",
    "\n",
    "\n",
    "Examples of Effective Messages:\n",
    "Message: Experience the refreshing taste of our all-natural fruit juices.\n",
    "Explanation: It is believable as fruit juices can be all-natural. It is also engaging with terms like “refreshing”. It also highlights the main attribute of the fruit juice which is its natural composition.\n",
    "###############################################\n",
    "Message: Revamp your wardrobe with our trendy and sustainable fashion pieces.\n",
    "Explanation: It is believable as fashion can be sustainable and trendy. It is also engaging with terms like “revamp”. It also highlights the main attribute which is the uniqueness of trendy/sustainable fashion.\n",
    "###############################################\n",
    "Message: Experience the ultimate relaxation with our spa-quality bath products.\n",
    "Explanation: It is believable as spas are relaxing. It is also engaging with terms like “quality”. It also highlights the main attribute which is the high quality of the bath products.\n",
    "\n",
    "\n",
    "Examples of Noneffective Message:\n",
    "Message: Our energy drink will give you wings, but don't blame us if you can't fly.\n",
    "Explanation: This is false advertising as the energy drink does not give you actual wings. It is a hyperbole.\n",
    "###############################################\n",
    "Message: Our makeup will make you look flawless, even if you're not.\n",
    "Explanation: This advertising is offensive to the user as it is calling them pretty without makeup. Offensive advertising is not effective.\n",
    "###############################################\n",
    "Message:  Our car insurance will save you money, but don't ask us how.\n",
    "Explanation: Once again, this is false advertising as the car insurance does not save you money/does not have a way to do this.\n",
    "\n",
    "\n",
    "Now, output advertising messages for a clothes company selling skirts.\n",
    "\n",
    "\"\"\"\n",
    "\n",
    "\n",
    "response = openai.Completion.create(\n",
    "  engine=\"gpt-3.5-turbo-instruct\",\n",
    "  prompt=gpt_prompt,\n",
    "  temperature=0.5,\n",
    "  max_tokens=1000,\n",
    "  top_p=1.0,\n",
    "  frequency_penalty=0.0,\n",
    "  presence_penalty=0.0,\n",
    ")\n",
    "\n",
    "\n",
    "print(response['choices'][0]['text'])"
   ]
  },
  {
   "cell_type": "code",
   "execution_count": 20,
   "id": "3bdb3805",
   "metadata": {},
   "outputs": [
    {
     "name": "stdout",
     "output_type": "stream",
     "text": [
      "\n",
      "Message: Elevate your style with our elegant and timeless watches.\n",
      "Explanation: This message is believable as watches can be elegant and timeless. It is also engaging with terms like \"elevate\" and \"style\". It highlights the main attribute of the watches which is their elegance and timelessness.\n",
      "###############################################\n",
      "Message: Make a statement with our luxurious and high-quality watches.\n",
      "Explanation: This message is believable as watches can be luxurious and high-quality. It is also engaging with terms like \"make a statement\". It highlights the main attribute of the watches which is their luxury and quality.\n",
      "###############################################\n",
      "Message: Stay on time and on trend with our stylish and reliable watches.\n",
      "Explanation: This message is believable as watches can be stylish and reliable. It is also engaging with terms like \"stay on time\" and \"on trend\". It highlights the main attribute of the watches which is their style and reliability.\n"
     ]
    }
   ],
   "source": [
    "gpt_prompt = \"\"\"\n",
    "Create effective advertising messages for a jewelry company selling watches.\n",
    "\n",
    "Note that an effective advertising message has the following criteria:\n",
    "It must be truthful, both in its statements, and its reasonable implications.\n",
    "It must be believable.\n",
    "It must be engaging.\n",
    "The advertising claims must be effectively presented—in order that they may be heard or read.\n",
    "The product-attributes which are the subject matter of the advertising must be attributes which are, or can be made to be, important to those whom the advertising is intended to influence.\n",
    "\n",
    "\n",
    "Examples of Effective Messages:\n",
    "Message: Experience the refreshing taste of our all-natural fruit juices.\n",
    "Explanation: It is believable as fruit juices can be all-natural. It is also engaging with terms like “refreshing”. It also highlights the main attribute of the fruit juice which is its natural composition.\n",
    "###############################################\n",
    "Message: Revamp your wardrobe with our trendy and sustainable fashion pieces.\n",
    "Explanation: It is believable as fashion can be sustainable and trendy. It is also engaging with terms like “revamp”. It also highlights the main attribute which is the uniqueness of trendy/sustainable fashion.\n",
    "###############################################\n",
    "Message: Experience the ultimate relaxation with our spa-quality bath products.\n",
    "Explanation: It is believable as spas are relaxing. It is also engaging with terms like “quality”. It also highlights the main attribute which is the high quality of the bath products.\n",
    "\n",
    "\n",
    "Examples of Noneffective Message:\n",
    "Message: Our energy drink will give you wings, but don't blame us if you can't fly.\n",
    "Explanation: This is false advertising as the energy drink does not give you actual wings. It is a hyperbole.\n",
    "###############################################\n",
    "Message: Our makeup will make you look flawless, even if you're not.\n",
    "Explanation: This advertising is offensive to the user as it is calling them pretty without makeup. Offensive advertising is not effective.\n",
    "###############################################\n",
    "Message:  Our car insurance will save you money, but don't ask us how.\n",
    "Explanation: Once again, this is false advertising as the car insurance does not save you money/does not have a way to do this.\n",
    "\n",
    "\n",
    "Now, output advertising messages for a jewelry company selling watches.\n",
    "\n",
    "\"\"\"\n",
    "\n",
    "\n",
    "response = openai.Completion.create(\n",
    "  engine=\"gpt-3.5-turbo-instruct\",\n",
    "  prompt=gpt_prompt,\n",
    "  temperature=0.5,\n",
    "  max_tokens=1000,\n",
    "  top_p=1.0,\n",
    "  frequency_penalty=0.0,\n",
    "  presence_penalty=0.0,\n",
    ")\n",
    "\n",
    "\n",
    "print(response['choices'][0]['text'])"
   ]
  },
  {
   "cell_type": "code",
   "execution_count": null,
   "id": "0dddb991",
   "metadata": {},
   "outputs": [],
   "source": []
  }
 ],
 "metadata": {
  "kernelspec": {
   "display_name": "Python 3 (ipykernel)",
   "language": "python",
   "name": "python3"
  },
  "language_info": {
   "codemirror_mode": {
    "name": "ipython",
    "version": 3
   },
   "file_extension": ".py",
   "mimetype": "text/x-python",
   "name": "python",
   "nbconvert_exporter": "python",
   "pygments_lexer": "ipython3",
   "version": "3.10.9"
  }
 },
 "nbformat": 4,
 "nbformat_minor": 5
}
