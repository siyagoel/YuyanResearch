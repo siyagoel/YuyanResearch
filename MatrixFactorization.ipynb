{
 "cells": [
  {
   "cell_type": "code",
   "execution_count": 10,
   "id": "ea824250-79d2-4a38-ade7-3554a7b1f673",
   "metadata": {},
   "outputs": [
    {
     "name": "stdout",
     "output_type": "stream",
     "text": [
      "Updated user embeddings: [[ 0.00000000e+00  0.00000000e+00  0.00000000e+00 ...  8.32379025e-56\n",
      "   0.00000000e+00  0.00000000e+00]\n",
      " [ 0.00000000e+00  0.00000000e+00 -7.59228366e-17 ...  4.16522430e-40\n",
      "   0.00000000e+00  0.00000000e+00]\n",
      " [ 0.00000000e+00  0.00000000e+00  7.59835686e-01 ...  2.08427807e-24\n",
      "   0.00000000e+00  0.00000000e+00]\n",
      " ...\n",
      " [ 0.00000000e+00  0.00000000e+00  0.00000000e+00 ...  0.00000000e+00\n",
      "   0.00000000e+00  0.00000000e+00]\n",
      " [ 0.00000000e+00  0.00000000e+00  0.00000000e+00 ...  0.00000000e+00\n",
      "   0.00000000e+00  0.00000000e+00]\n",
      " [ 0.00000000e+00  0.00000000e+00  0.00000000e+00 ...  0.00000000e+00\n",
      "   0.00000000e+00  0.00000000e+00]]\n",
      "Updated item embeddings: [[ 0.00000000e+00  0.00000000e+00  0.00000000e+00 ...  2.55270887e-24\n",
      "   0.00000000e+00  0.00000000e+00]\n",
      " [ 0.00000000e+00  0.00000000e+00  0.00000000e+00 ...  0.00000000e+00\n",
      "   0.00000000e+00  0.00000000e+00]\n",
      " [ 0.00000000e+00  0.00000000e+00  0.00000000e+00 ...  0.00000000e+00\n",
      "   0.00000000e+00  0.00000000e+00]\n",
      " ...\n",
      " [ 0.00000000e+00  0.00000000e+00  0.00000000e+00 ...  0.00000000e+00\n",
      "   0.00000000e+00  0.00000000e+00]\n",
      " [ 0.00000000e+00  0.00000000e+00  0.00000000e+00 ...  0.00000000e+00\n",
      "   0.00000000e+00  0.00000000e+00]\n",
      " [ 0.00000000e+00  0.00000000e+00  0.00000000e+00 ...  0.00000000e+00\n",
      "  -1.91845820e-95  0.00000000e+00]]\n"
     ]
    }
   ],
   "source": [
    "import numpy as np\n",
    "\n",
    "# Parameters\n",
    "N = 100  # Number of users\n",
    "M = 100  # Number of items\n",
    "K = 10   # Dimension of embeddings\n",
    "\n",
    "# Initialize embeddings\n",
    "u = np.random.normal(0, 1, (N, K))\n",
    "v = np.random.normal(0, 1, (M, K))\n",
    "\n",
    "# Simulate delta_ij and e_ij\n",
    "delta = np.random.normal(0, 1, (N, M))\n",
    "e = np.random.normal(0, 0.1, (N, M))\n",
    "\n",
    "# Utility matrix U\n",
    "U = delta + e\n",
    "\n",
    "# Simulation of interactions and training data preparation\n",
    "interactions = []\n",
    "\n",
    "for i in range(N):\n",
    "    # Recommend the item that maximizes dot(u_i, v_j)\n",
    "    scores = np.dot(u[i], v.T)\n",
    "    recommended_item = np.argmax(scores)\n",
    "\n",
    "    # User's consideration set: includes recommended + randomly chosen items\n",
    "    searched_items = np.random.choice(M, size=10, replace=False)\n",
    "    if recommended_item not in searched_items:\n",
    "        searched_items[0] = recommended_item  # Ensure recommended item is in the set\n",
    "\n",
    "    # User selects item with max U_ij in the consideration set\n",
    "    utilities = U[i, searched_items]\n",
    "    chosen_item = searched_items[np.argmax(utilities)]\n",
    "\n",
    "    # Collect interaction data\n",
    "    interactions.append((i, chosen_item, 1))  # User i chose item chosen_item\n",
    "\n",
    "# Convert interactions to matrix for MF training\n",
    "interaction_matrix = np.zeros((N, M))\n",
    "for user, item, interaction in interactions:\n",
    "    interaction_matrix[user, item] = interaction\n",
    "\n",
    "# Simple matrix factorization training (e.g., using SVD)\n",
    "U, S, Vt = np.linalg.svd(interaction_matrix, full_matrices=False)\n",
    "u_new = np.dot(U, np.diag(np.sqrt(S)))\n",
    "v_new = np.dot(np.diag(np.sqrt(S)), Vt)\n",
    "\n",
    "print(\"Updated user embeddings:\", u_new)\n",
    "print(\"Updated item embeddings:\", v_new.T)\n"
   ]
  },
  {
   "cell_type": "code",
   "execution_count": null,
   "id": "59a0fe19-729b-4acb-9c01-18899e6072e9",
   "metadata": {},
   "outputs": [],
   "source": []
  }
 ],
 "metadata": {
  "kernelspec": {
   "display_name": "Python 3 (ipykernel)",
   "language": "python",
   "name": "python3"
  },
  "language_info": {
   "codemirror_mode": {
    "name": "ipython",
    "version": 3
   },
   "file_extension": ".py",
   "mimetype": "text/x-python",
   "name": "python",
   "nbconvert_exporter": "python",
   "pygments_lexer": "ipython3",
   "version": "3.10.9"
  }
 },
 "nbformat": 4,
 "nbformat_minor": 5
}
